{
 "cells": [
  {
   "cell_type": "code",
   "execution_count": 7,
   "id": "e425ea03",
   "metadata": {},
   "outputs": [],
   "source": [
    "import pandas as pd\n",
    "import numpy as np\n",
    "import matplotlib.pyplot as plt\n",
    "%matplotlib inline \n",
    "df = pd.read_csv('AbandonoEmpleados.csv',sep=';', index_col = 'id', na_values = '#N/D')\n"
   ]
  },
  {
   "cell_type": "code",
   "execution_count": 8,
   "id": "09e66255",
   "metadata": {},
   "outputs": [],
   "source": [
    "#Empezamos"
   ]
  },
  {
   "cell_type": "code",
   "execution_count": null,
   "id": "7a3c3cb4",
   "metadata": {},
   "outputs": [],
   "source": [
    "lkjnas"
   ]
  }
 ],
 "metadata": {
  "kernelspec": {
   "display_name": "Python 3 (Spyder)",
   "language": "python3",
   "name": "python3"
  },
  "language_info": {
   "codemirror_mode": {
    "name": "ipython",
    "version": 3
   },
   "file_extension": ".py",
   "mimetype": "text/x-python",
   "name": "python",
   "nbconvert_exporter": "python",
   "pygments_lexer": "ipython3",
   "version": "3.8.8"
  }
 },
 "nbformat": 4,
 "nbformat_minor": 5
}
